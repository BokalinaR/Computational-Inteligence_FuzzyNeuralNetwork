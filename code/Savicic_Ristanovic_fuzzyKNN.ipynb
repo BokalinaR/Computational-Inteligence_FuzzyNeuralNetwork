{
 "cells": [
  {
   "cell_type": "code",
   "execution_count": 52,
   "metadata": {},
   "outputs": [],
   "source": [
    "import numpy as np\n",
    "import pandas as pd\n",
    "import os\n",
    "import math\n",
    "import random\n",
    "from sklearn.neighbors import KNeighborsClassifier\n",
    "import sklearn.metrics as met\n",
    "from matplotlib import pyplot as plt\n",
    "\n",
    "from fuzzy import *"
   ]
  },
  {
   "cell_type": "code",
   "execution_count": 70,
   "metadata": {},
   "outputs": [],
   "source": [
    "class FuzzyKNN:\n",
    "    def __init__(self, sensitivity, exp_bound):\n",
    "        # konstruktor\n",
    "        self.sensitivity = sensitivity\n",
    "        self.hyperboxes = None\n",
    "        self.classes = np.array([])\n",
    "        self.exp_bound = exp_bound\n",
    "        \n",
    "    def membership(self, pattern):\n",
    "        # racuna pripadnost i vraca niz pripadnosti svakom hiperboksu\n",
    "        min_pts = self.hyperboxes[:, 0, :]\n",
    "        max_pts = self.hyperboxes[:, 1, :]\n",
    "\n",
    "        a = np.maximum(0, (1 - np.maximum(0, (self.sensitivity * np.minimum(1, pattern - max_pts)))))\n",
    "        b = np.maximum(0, (1 - np.maximum(0, (self.sensitivity * np.minimum(1, min_pts - pattern)))))\n",
    "        \n",
    "        return np.sum(a + b, axis=1) / (2 * len(pattern))\n",
    "    \n",
    "    def overlap_contract(self, index):\n",
    "        #proveravamo da li se hiperboksevi preklapaju\n",
    "        contracted = False\n",
    "        for test_box in range(len(self.hyperboxes)):\n",
    "            if self.classes[test_box] == self.classes[index]:\n",
    "                # ignorisemo preklapanje hiperbokseva iste klase\n",
    "                continue\n",
    "            expanded_box = self.hyperboxes[index]\n",
    "            box = self.hyperboxes[test_box]\n",
    "            \n",
    "            vj, wj = expanded_box #onaj za koji gledamo da li se preklapa sa nekim\n",
    "            vk, wk = box\n",
    "\n",
    "            # moguci slucajevi preklapanja\n",
    "            # trazimo najmanje preklapanje\n",
    "            delta_new = delta_old = 1\n",
    "            min_overlap_index = -1\n",
    "            for i in range(len(vj)):\n",
    "                if vj[i] < vk[i] < wj[i] < wk[i]:\n",
    "                    delta_new = min(delta_old, wj[i] - vk[i])\n",
    "                elif vk[i] < vj[i] < wk[i] < wj[i]:\n",
    "                    delta_new = min(delta_old, wk[i] - vj[i])\n",
    "                \n",
    "                elif vj[i] < vk[i] < wk[i] < wj[i]:\n",
    "                    delta_new = min(delta_old, min(wj[i] - vk[i], wk[i] - vj[i]))\n",
    "\n",
    "                elif vk[i] < vj[i] < wj[i] < wk[i]:\n",
    "                    delta_new = min(delta_old, min(wj[i] - vk[i], wk[i] - vj[i]))\n",
    "\n",
    "                if delta_old - delta_new > 0:\n",
    "                    min_overlap_index = i\n",
    "                    delta_old = delta_new\n",
    "\n",
    "            # ako ima preklapanja, \n",
    "            # gledamo po kojoj strani smanjujemo hiperbokseve\n",
    "            if min_overlap_index >= 0:\n",
    "                i = min_overlap_index\n",
    "                if vj[i] < vk[i] < wj[i] < wk[i]:\n",
    "                    vk[i] = wj[i] = (vk[i] + wj[i])/2\n",
    "\n",
    "                elif vk[i] < vj[i] < wk[i] < wj[i]:\n",
    "                    vj[i] = wk[i] = (vj[i] + wk[i])/2\n",
    "\n",
    "                elif vj[i] < vk[i] < wk[i] < wj[i]:\n",
    "                    if (wj[i] - vk[i]) > (wk[i] - vj[i]):\n",
    "                        vj[i] = wk[i]\n",
    "\n",
    "                    else:\n",
    "                        wj[i] = vk[i]\n",
    "\n",
    "                elif vk[i] < vj[i] < wj[i] < wk[i]:\n",
    "                    if (wk[i] - vj[i]) > (wj[i] - vk[i]):\n",
    "                        vk[i] = wj[i]\n",
    "\n",
    "                    else:\n",
    "                        wk[i] = vj[i]\n",
    "\n",
    "                self.hyperboxes[test_box] = np.array([vk, wk])\n",
    "                self.hyperboxes[index] = np.array([vj, wj])\n",
    "                contracted = True\n",
    "                \n",
    "        return contracted\n",
    "    \n",
    "    def train_pattern(self, X, Y):\n",
    "        # funkcija koja trenira klasifikator\n",
    "        target = Y\n",
    "        \n",
    "        # ako nemamo tu klasu u klasama\n",
    "        if target not in self.classes:\n",
    "            # pravimo hiperboks\n",
    "            if self.hyperboxes is not None:\n",
    "                self.hyperboxes = np.vstack((self.hyperboxes, np.array([[X, X]])))\n",
    "                #print('dodao sam hiperboks: ', self.hyperboxes)\n",
    "                self.classes = np.hstack((self.classes, np.array([target])))\n",
    "                #print('dodao sam klasu: ', self.classes)\n",
    "\n",
    "            else:\n",
    "                self.hyperboxes = np.array([[X, X]])\n",
    "                self.classes = np.array([target])\n",
    "        else:\n",
    "\n",
    "            # sortiramo pripadnosti svim hiperboksevima za trazenu klasu\n",
    "            memberships = self.membership(X)\n",
    "            #print('memberships1: ', memberships)\n",
    "            memberships[np.where(self.classes != target)] = 0\n",
    "            #print('memberships2: ', memberships)\n",
    "            memberships = sorted(list(enumerate(memberships)), key=lambda x: x[1], reverse=True)\n",
    "            #print('memberships3: ', memberships)\n",
    "            \n",
    "            # Sirimo hiperboks\n",
    "            count = 0\n",
    "            while True:\n",
    "                index = memberships[count][0]\n",
    "                min_new = np.minimum(self.hyperboxes[index, 0, :], X)\n",
    "                max_new = np.maximum(self.hyperboxes[index, 1, :], X)\n",
    "                \n",
    "                if self.exp_bound * len(np.unique(self.classes)) >= np.sum(max_new - min_new):\n",
    "                    self.hyperboxes[index, 0] = min_new\n",
    "                    self.hyperboxes[index, 1] = max_new\n",
    "                    break\n",
    "                else:\n",
    "                    count += 1\n",
    "\n",
    "                if count == len(memberships):\n",
    "                    self.hyperboxes = np.vstack((self.hyperboxes, np.array([[X, X]])))\n",
    "                    self.classes = np.hstack((self.classes, np.array([target])))\n",
    "                    index = len(self.hyperboxes) - 1\n",
    "                    break\n",
    "                    \n",
    "            contracted = self.overlap_contract(index)\n",
    "        \n",
    "    def fit(self, X, Y):\n",
    "        for x, y in zip(X, Y):\n",
    "            self.train_pattern(x, y)\n",
    "\n",
    "    \n",
    "    # predvidjamo klasu\n",
    "    def predict(self, X, k):\n",
    "        \n",
    "        #uzimamo tacke koje odredjuju hiperbokseve\n",
    "        min_pts = self.hyperboxes[:, 0, :]\n",
    "        max_pts = self.hyperboxes[:, 1, :]\n",
    "      \n",
    "        # broj klasa \n",
    "        # i niz u kome cemo brojati pojavljivanje svake klase\n",
    "        n_classes = len(np.unique(self.classes))\n",
    "        cl = np.zeros(n_classes)\n",
    "        \n",
    "        # racunamo udaljenost tacke X od svakog hiperboksa\n",
    "        # tako sto racunamo udaljenost X od prave koja prolazi kroz tacke koje odredjuju hiperboks\n",
    "        distance = []\n",
    "        for i in range(len(min_pts)):\n",
    "            x1 = min_pts[i][0]\n",
    "            y1 = min_pts[i][1]\n",
    "            x2 = max_pts[i][0]\n",
    "            y2 = max_pts[i][1]\n",
    "            \n",
    "            if(x1 == x2 and y1 == y2):\n",
    "                d = abs(math.sqrt((x1-X[0])**2 + (y1 - X[1])**2))\n",
    "                distance.append(d)\n",
    "            elif(x1 == x2):\n",
    "                d = min(abs(math.sqrt((x1-X[0])**2 + (y1 - X[1])**2)), \n",
    "                       abs(math.sqrt((x2-X[0])**2 + (y2 - X[1])**2)))\n",
    "                distance.append(d)\n",
    "            elif(y1 == y2):\n",
    "                d = min(abs(math.sqrt((x1-X[0])**2 + (y1 - X[1])**2)), \n",
    "                       abs(math.sqrt((x2-X[0])**2 + (y2 - X[1])**2)))\n",
    "                distance.append(d)\n",
    "            else:\n",
    "               # print('(x1, y1): ', x1, \" \", y1, end=\"\\n\")\n",
    "               # print('(x2, y2): ', x2, \" \", y2, end=\"\\n\")\n",
    "                d = abs((y2-y1)*X[0] - (x2-x1)*X[1] + x2*y1 - y2*x1) / math.sqrt((y2-y1)**2 + (x2-x1)**2)\n",
    "                distance.append(d)\n",
    "\n",
    "        # sortiramo udaljenosti od najmanje ka najvecoj\n",
    "        # i uzimamo prvih k najblizih hiperbokseva\n",
    "        distance = sorted(list(enumerate(distance)), key=lambda x: x[1])\n",
    "        #print('distance: ', distance, end='\\n')\n",
    "        distance = distance[:k]\n",
    "        #print('distance_k: ', distance, end='\\n')\n",
    "        distance_index = []\n",
    "        for i in range(len(distance)):\n",
    "            distance_index.append(distance[i][0])\n",
    "            \n",
    "        # brojimo pojavljivanje svake klase na osnovu hiperboksa koji joj pripada\n",
    "        for i in range(len(distance_index)):\n",
    "            index = distance_index[i]\n",
    "            _class = self.classes[index]\n",
    "            cl[_class] += 1\n",
    "            #print('cl: ', cl, end = \"\\n\")\n",
    "        \n",
    "        # nalazimo najbrojniju klasu koja je konacna klasa X\n",
    "        max = 0\n",
    "        final_class = 0\n",
    "        for i in range (len(cl)):\n",
    "            if(cl[i] >= max):\n",
    "                max = cl[i]\n",
    "                final_class = i\n",
    "        \n",
    "        \n",
    "        return final_class\n",
    "       \n",
    "    # funkcija koja racuna procenat uspesno klasifikovanih instanci\n",
    "    def score(self, X, Y, k):\n",
    "        count = 0\n",
    "        for x, y in zip(X, Y):\n",
    "            pred = self.predict(x, k)\n",
    "            if y == pred:\n",
    "                count += 1\n",
    "        print(count)\n",
    "        print(len(Y))\n",
    "        \n",
    "        return count / len(Y)"
   ]
  },
  {
   "cell_type": "markdown",
   "metadata": {},
   "source": [
    "IRIS dataset"
   ]
  },
  {
   "cell_type": "code",
   "execution_count": 71,
   "metadata": {},
   "outputs": [
    {
     "name": "stdout",
     "output_type": "stream",
     "text": [
      "    sepal length  sepal width  petal length  petal width  class\n",
      "23           5.1          3.3           1.7          0.5      0\n",
      "42           4.4          3.2           1.3          0.2      0\n",
      "3            4.6          3.1           1.5          0.2      0\n",
      "91           6.1          3.0           4.6          1.4      1\n",
      "31           5.4          3.4           1.5          0.4      0\n",
      "..           ...          ...           ...          ...    ...\n",
      "8            4.4          2.9           1.4          0.2      0\n",
      "30           4.8          3.1           1.6          0.2      0\n",
      "37           4.9          3.1           1.5          0.1      0\n",
      "1            4.9          3.0           1.4          0.2      0\n",
      "43           5.0          3.5           1.6          0.6      0\n",
      "\n",
      "[100 rows x 5 columns]\n",
      "[[0.2962963  0.09756098]\n",
      " [0.22222222 0.09756098]\n",
      " [0.14814815 0.07317073]\n",
      " [0.11111111 0.12195122]\n",
      " [0.25925926 0.09756098]\n",
      " [0.40740741 0.17073171]\n",
      " [0.11111111 0.09756098]\n",
      " [0.25925926 0.12195122]\n",
      " [0.03703704 0.09756098]\n",
      " [0.22222222 0.12195122]\n",
      " [0.40740741 0.12195122]\n",
      " [0.18518519 0.14634146]\n",
      " [0.18518519 0.09756098]\n",
      " [0.         0.02439024]\n",
      " [0.55555556 0.04878049]\n",
      " [0.51851852 0.12195122]\n",
      " [0.40740741 0.07317073]\n",
      " [0.2962963  0.09756098]\n",
      " [0.51851852 0.17073171]\n",
      " [0.2962963  0.12195122]\n",
      " [0.40740741 0.17073171]\n",
      " [0.2962963  0.12195122]\n",
      " [0.11111111 0.        ]\n",
      " [0.2962963  0.17073171]\n",
      " [0.18518519 0.2195122 ]\n",
      " [0.25925926 0.14634146]\n",
      " [0.25925926 0.14634146]\n",
      " [0.33333333 0.12195122]\n",
      " [0.33333333 0.09756098]\n",
      " [0.14814815 0.14634146]\n",
      " [0.18518519 0.14634146]\n",
      " [0.40740741 0.12195122]\n",
      " [0.33333333 0.12195122]\n",
      " [0.44444444 0.09756098]\n",
      " [0.22222222 0.12195122]\n",
      " [0.25925926 0.04878049]\n",
      " [0.44444444 0.07317073]\n",
      " [0.22222222 0.12195122]\n",
      " [0.03703704 0.07317073]\n",
      " [0.2962963  0.12195122]\n",
      " [0.25925926 0.07317073]\n",
      " [0.07407407 0.07317073]\n",
      " [0.03703704 0.07317073]\n",
      " [0.25925926 0.14634146]\n",
      " [0.2962963  0.2195122 ]\n",
      " [0.18518519 0.09756098]\n",
      " [0.2962963  0.14634146]\n",
      " [0.11111111 0.09756098]\n",
      " [0.37037037 0.12195122]\n",
      " [0.25925926 0.09756098]\n",
      " [1.         0.90243902]\n",
      " [0.77777778 0.85365854]\n",
      " [0.96296296 0.95121951]\n",
      " [0.44444444 0.73170732]\n",
      " [0.81481481 0.87804878]\n",
      " [0.51851852 0.85365854]\n",
      " [0.74074074 0.90243902]\n",
      " [0.22222222 0.56097561]\n",
      " [0.85185185 0.87804878]\n",
      " [0.33333333 0.70731707]\n",
      " [0.25925926 0.6097561 ]\n",
      " [0.59259259 0.7804878 ]\n",
      " [0.62962963 0.73170732]\n",
      " [0.66666667 0.90243902]\n",
      " [0.48148148 0.63414634]\n",
      " [0.88888889 0.82926829]\n",
      " [0.48148148 0.85365854]\n",
      " [0.55555556 0.75609756]\n",
      " [0.7037037  0.85365854]\n",
      " [0.48148148 0.70731707]\n",
      " [0.59259259 0.92682927]\n",
      " [0.66666667 0.73170732]\n",
      " [0.74074074 0.95121951]\n",
      " [0.66666667 0.90243902]\n",
      " [0.77777778 0.80487805]\n",
      " [0.85185185 0.82926829]\n",
      " [0.92592593 0.92682927]\n",
      " [0.88888889 0.97560976]\n",
      " [0.62962963 0.85365854]\n",
      " [0.51851852 0.6097561 ]\n",
      " [0.44444444 0.68292683]\n",
      " [0.44444444 0.65853659]\n",
      " [0.55555556 0.70731707]\n",
      " [0.62962963 1.        ]\n",
      " [0.40740741 0.85365854]\n",
      " [0.62962963 0.85365854]\n",
      " [0.88888889 0.90243902]\n",
      " [0.74074074 0.82926829]\n",
      " [0.48148148 0.75609756]\n",
      " [0.44444444 0.73170732]\n",
      " [0.44444444 0.82926829]\n",
      " [0.66666667 0.87804878]\n",
      " [0.55555556 0.73170732]\n",
      " [0.25925926 0.56097561]\n",
      " [0.48148148 0.7804878 ]\n",
      " [0.51851852 0.7804878 ]\n",
      " [0.51851852 0.7804878 ]\n",
      " [0.7037037  0.80487805]\n",
      " [0.2962963  0.48780488]\n",
      " [0.51851852 0.75609756]]\n"
     ]
    }
   ],
   "source": [
    "df = pd.read_csv('iris.data', header=None, names=['sepal length', 'sepal width', 'petal length', 'petal width', 'class'])\n",
    "df = df[~(df['class']=='Iris-virginica')]\n",
    "#df.head()\n",
    "\n",
    "df.replace(to_replace='Iris-setosa', value=0, inplace=True)\n",
    "\n",
    "df.replace(to_replace='Iris-versicolor', value=1, inplace=True)\n",
    "\n",
    "print(df.sample(frac=1))\n",
    "\n",
    "X_train = df[['sepal length', 'petal length']].values\n",
    "Y_train = df['class'].values\n",
    "\n",
    "_max = np.max(X_train, axis=0)\n",
    "_min = np.min(X_train, axis=0)\n",
    "X_train = (X_train - _min) / (_max - _min)\n",
    "print(X_train)"
   ]
  },
  {
   "cell_type": "code",
   "execution_count": 72,
   "metadata": {},
   "outputs": [
    {
     "data": {
      "text/plain": [
       "array([1, 1, 1, 1, 1, 1, 1, 1, 1, 1, 1, 1, 1, 1, 1, 1, 1, 1, 1, 1])"
      ]
     },
     "execution_count": 72,
     "metadata": {},
     "output_type": "execute_result"
    }
   ],
   "source": [
    "X_test, Y_test = X_train[-20:], Y_train[-20:]\n",
    "X_train, Y_train = X_train[:-20], Y_train[:-20]\n",
    "(Y_test)"
   ]
  },
  {
   "cell_type": "code",
   "execution_count": 73,
   "metadata": {},
   "outputs": [
    {
     "name": "stdout",
     "output_type": "stream",
     "text": [
      "16\n",
      "20\n"
     ]
    },
    {
     "data": {
      "text/plain": [
       "0.8"
      ]
     },
     "execution_count": 73,
     "metadata": {},
     "output_type": "execute_result"
    }
   ],
   "source": [
    "clf1 = FuzzyKNN(sensitivity=1, exp_bound=0.4)\n",
    "clf1.fit(X_train, Y_train)\n",
    "score1 = clf1.score(X_test, Y_test, 4)\n",
    "(score1)"
   ]
  },
  {
   "cell_type": "markdown",
   "metadata": {},
   "source": [
    "Fuzzy Min-Max Classificator - IRIS"
   ]
  },
  {
   "cell_type": "code",
   "execution_count": 74,
   "metadata": {},
   "outputs": [
    {
     "data": {
      "text/plain": [
       "0.85"
      ]
     },
     "execution_count": 74,
     "metadata": {},
     "output_type": "execute_result"
    }
   ],
   "source": [
    "clf2 = FuzzyMMC(sensitivity=1, exp_bound=0.4)\n",
    "clf2.fit(X_train, Y_train)\n",
    "score2 = clf2.score(X_test, Y_test)\n",
    "(score2)"
   ]
  },
  {
   "cell_type": "markdown",
   "metadata": {},
   "source": [
    "KNN algoritam"
   ]
  },
  {
   "cell_type": "code",
   "execution_count": 75,
   "metadata": {},
   "outputs": [
    {
     "data": {
      "text/plain": [
       "1.0"
      ]
     },
     "execution_count": 75,
     "metadata": {},
     "output_type": "execute_result"
    }
   ],
   "source": [
    "clf3 = KNeighborsClassifier(n_neighbors = 4)\n",
    "clf3.fit(X_train, Y_train)\n",
    "Y_pred = clf3.predict(X_test)\n",
    "accuracy = met.accuracy_score(Y_test, Y_pred)\n",
    "(accuracy)"
   ]
  },
  {
   "cell_type": "code",
   "execution_count": 76,
   "metadata": {},
   "outputs": [
    {
     "data": {
      "image/png": "[encoded data removed]",
      "text/plain": [
       "<Figure size 432x288 with 1 Axes>"
      ]
     },
     "metadata": {
      "needs_background": "light"
     },
     "output_type": "display_data"
    }
   ],
   "source": [
    "# IRIS poredjenje\n",
    "objects = ('iris_FMMKNN', 'iris_FMMK', 'iris_KNN')\n",
    "y_pos = np.arange(len(objects))\n",
    "\n",
    "x_pos = [score1, score2, accuracy] \n",
    "\n",
    "plt.bar(y_pos, x_pos, align='center', alpha=0.5, color = ['r', 'g','b'])\n",
    "plt.xticks(y_pos, objects)\n",
    "plt.ylabel('score')\n",
    "plt.title('Accuracy for IRIS dataset')\n",
    "\n",
    "plt.show()"
   ]
  },
  {
   "cell_type": "markdown",
   "metadata": {},
   "source": [
    "WINE dataset"
   ]
  },
  {
   "cell_type": "code",
   "execution_count": 77,
   "metadata": {},
   "outputs": [
    {
     "name": "stdout",
     "output_type": "stream",
     "text": [
      "\n",
      "---------------------------------\n",
      "WINE DATASET: \n",
      "\n",
      "\n",
      "     Wine  Alcohol  Malic.acid   Ash   Acl   Mg  Phenols  Flavanoids  \\\n",
      "54      0    13.74        1.67  2.25  16.4  118     2.60        2.90   \n",
      "129     1    12.04        4.30  2.38  22.0   80     2.10        1.75   \n",
      "128     1    12.37        1.63  2.30  24.5   88     2.22        2.45   \n",
      "92      1    12.69        1.53  2.26  20.7   80     1.38        1.46   \n",
      "67      1    12.37        1.17  1.92  19.6   78     2.11        1.00   \n",
      "..    ...      ...         ...   ...   ...  ...      ...         ...   \n",
      "73      1    12.99        1.67  2.60  30.0  139     3.30        2.89   \n",
      "91      1    12.00        1.51  2.42  22.0   86     1.45        1.25   \n",
      "154     2    12.58        1.29  2.10  20.0  103     1.48        0.58   \n",
      "61      1    12.64        1.36  2.02  16.8  100     2.02        1.41   \n",
      "144     2    12.25        3.88  2.20  18.5  112     1.38        0.78   \n",
      "\n",
      "     Nonflavanoid.phenols  Proanth  Color.int   Hue    OD  Proline  \n",
      "54                   0.21     1.62       5.85  0.92  3.20     1060  \n",
      "129                  0.42     1.35       2.60  0.79  2.57      580  \n",
      "128                  0.40     1.90       2.12  0.89  2.78      342  \n",
      "92                   0.58     1.62       3.05  0.96  2.06      495  \n",
      "67                   0.27     1.04       4.68  1.12  3.48      510  \n",
      "..                    ...      ...        ...   ...   ...      ...  \n",
      "73                   0.21     1.96       3.35  1.31  3.50      985  \n",
      "91                   0.50     1.63       3.60  1.05  2.65      450  \n",
      "154                  0.53     1.40       7.60  0.58  1.55      640  \n",
      "61                   0.53     0.62       5.75  0.98  1.59      450  \n",
      "144                  0.29     1.14       8.21  0.65  1.00      855  \n",
      "\n",
      "[178 rows x 14 columns]\n",
      "[[0.84210526 0.1916996 ]\n",
      " [0.57105263 0.2055336 ]\n",
      " [0.56052632 0.3201581 ]\n",
      " [0.87894737 0.23913043]\n",
      " [0.58157895 0.36561265]\n",
      " [0.83421053 0.20158103]\n",
      " [0.88421053 0.22332016]\n",
      " [0.79736842 0.27865613]\n",
      " [1.         0.17786561]\n",
      " [0.74473684 0.12055336]\n",
      " [0.80789474 0.28063241]\n",
      " [0.81315789 0.14624506]\n",
      " [0.71578947 0.19565217]\n",
      " [0.97894737 0.19565217]\n",
      " [0.88157895 0.22332016]\n",
      " [0.68421053 0.21146245]\n",
      " [0.86052632 0.23320158]\n",
      " [0.73684211 0.16403162]\n",
      " [0.83157895 0.16798419]\n",
      " [0.68684211 0.46640316]\n",
      " [0.79736842 0.17588933]\n",
      " [0.5        0.60474308]\n",
      " [0.70526316 0.22134387]\n",
      " [0.47894737 0.16996047]\n",
      " [0.65       0.21146245]\n",
      " [0.53157895 0.25889328]\n",
      " [0.62105263 0.20355731]\n",
      " [0.59736842 0.19367589]\n",
      " [0.74736842 0.22924901]\n",
      " [0.78684211 0.18577075]\n",
      " [0.71052632 0.15019763]\n",
      " [0.67105263 0.18181818]\n",
      " [0.69736842 0.21541502]\n",
      " [0.71842105 0.15612648]\n",
      " [0.65263158 0.20948617]\n",
      " [0.64473684 0.21146245]\n",
      " [0.59210526 0.17786561]\n",
      " [0.53157895 0.1798419 ]\n",
      " [0.53684211 0.15019763]\n",
      " [0.83947368 0.64229249]\n",
      " [0.66578947 0.1916996 ]\n",
      " [0.62631579 0.61264822]\n",
      " [0.75       0.22727273]\n",
      " [0.58157895 0.64031621]\n",
      " [0.53157895 0.20355731]\n",
      " [0.83684211 0.65217391]\n",
      " [0.88157895 0.56324111]\n",
      " [0.75526316 0.18577075]\n",
      " [0.80789474 0.25296443]\n",
      " [0.76578947 0.19565217]\n",
      " [0.53157895 0.19565217]\n",
      " [0.73684211 0.1798419 ]\n",
      " [0.73421053 0.19960474]\n",
      " [0.72105263 0.22924901]\n",
      " [0.71315789 0.18379447]\n",
      " [0.66578947 0.19565217]\n",
      " [0.83947368 0.18972332]\n",
      " [0.59473684 0.243083  ]\n",
      " [0.70789474 0.13636364]\n",
      " [0.35263158 0.03952569]\n",
      " [0.34210526 0.07114625]\n",
      " [0.42368421 0.12252964]\n",
      " [0.69473684 0.10079051]\n",
      " [0.35263158 0.0770751 ]\n",
      " [0.3        0.14031621]\n",
      " [0.35263158 0.09288538]\n",
      " [0.54736842 0.05335968]\n",
      " [0.35263158 0.08498024]\n",
      " [0.60789474 0.03952569]\n",
      " [0.31052632 0.08893281]\n",
      " [0.33157895 0.17193676]\n",
      " [0.74473684 0.15217391]\n",
      " [0.64736842 0.18181818]\n",
      " [0.51578947 0.18379447]\n",
      " [0.24473684 0.06916996]\n",
      " [0.16578947 0.22529644]\n",
      " [0.52631579 0.03162055]\n",
      " [0.21315789 0.42490119]\n",
      " [0.34210526 0.04940711]\n",
      " [0.43947368 0.61857708]\n",
      " [0.25526316 0.03557312]\n",
      " [0.44473684 0.21146245]\n",
      " [0.27631579 0.0770751 ]\n",
      " [0.53157895 0.61660079]\n",
      " [0.21315789 0.02964427]\n",
      " [0.43157895 0.04743083]\n",
      " [0.29736842 0.17193676]\n",
      " [0.16315789 0.18379447]\n",
      " [0.16052632 0.26086957]\n",
      " [0.27631579 0.11660079]\n",
      " [0.27631579 0.21541502]\n",
      " [0.25526316 0.15217391]\n",
      " [0.43684211 0.15612648]\n",
      " [0.33157895 0.41304348]\n",
      " [0.15526316 0.24703557]\n",
      " [0.37894737 0.1541502 ]\n",
      " [0.20526316 0.27272727]\n",
      " [0.33157895 0.13241107]\n",
      " [0.35263158 0.06521739]\n",
      " [0.33157895 0.48023715]\n",
      " [0.27631579 0.26482213]\n",
      " [0.41315789 0.11857708]\n",
      " [0.34473684 0.33794466]\n",
      " [0.20789474 0.19367589]\n",
      " [0.38947368 0.19565217]\n",
      " [0.36578947 0.35770751]\n",
      " [0.32105263 0.19565217]\n",
      " [0.44473684 0.19960474]\n",
      " [0.31315789 0.10869565]\n",
      " [0.15263158 0.12055336]\n",
      " [0.11315789 0.59288538]\n",
      " [0.39210526 0.33399209]\n",
      " [0.19210526 0.38339921]\n",
      " [0.1        0.        ]\n",
      " [0.27631579 0.1284585 ]\n",
      " [0.         0.15217391]\n",
      " [0.20789474 0.14426877]\n",
      " [0.36578947 0.17193676]\n",
      " [0.45789474 0.53162055]\n",
      " [0.25526316 0.53162055]\n",
      " [0.11052632 0.32806324]\n",
      " [0.13947368 0.25889328]\n",
      " [0.36578947 0.72924901]\n",
      " [0.53157895 1.        ]\n",
      " [0.22105263 0.7055336 ]\n",
      " [0.27368421 0.28063241]\n",
      " [0.36842105 0.15612648]\n",
      " [0.2        0.27470356]\n",
      " [0.35263158 0.17588933]\n",
      " [0.26578947 0.70355731]\n",
      " [0.48157895 0.12055336]\n",
      " [0.48684211 0.44466403]\n",
      " [0.46842105 0.31027668]\n",
      " [0.43947368 0.55533597]\n",
      " [0.38947368 0.09881423]\n",
      " [0.41315789 0.33992095]\n",
      " [0.32105263 0.78656126]\n",
      " [0.39473684 0.94268775]\n",
      " [0.64736842 0.56324111]\n",
      " [0.47631579 0.43873518]\n",
      " [0.5        0.40909091]\n",
      " [0.61315789 0.35968379]\n",
      " [0.65526316 0.48023715]\n",
      " [0.68157895 0.83201581]\n",
      " [0.32105263 0.62055336]\n",
      " [0.56052632 0.55928854]\n",
      " [0.75       0.84980237]\n",
      " [0.48421053 0.76482213]\n",
      " [0.60263158 0.49407115]\n",
      " [0.53947368 0.62450593]\n",
      " [0.65       0.47035573]\n",
      " [0.46315789 0.38142292]\n",
      " [0.54736842 0.22924901]\n",
      " [0.57894737 0.50592885]\n",
      " [0.40789474 0.10869565]\n",
      " [0.56315789 0.87944664]\n",
      " [0.73947368 0.66798419]\n",
      " [0.37368421 0.45256917]\n",
      " [0.87105263 0.18577075]\n",
      " [0.64473684 0.18379447]\n",
      " [0.35       0.61067194]\n",
      " [0.7        0.49802372]\n",
      " [0.47894737 0.5       ]\n",
      " [0.50789474 0.53557312]\n",
      " [0.72368421 0.39920949]\n",
      " [0.71052632 0.71541502]\n",
      " [0.63684211 0.58498024]\n",
      " [0.47105263 0.51976285]\n",
      " [0.67105263 0.36363636]\n",
      " [0.62368421 0.76284585]\n",
      " [0.30789474 0.45256917]\n",
      " [0.45789474 0.32608696]\n",
      " [0.82368421 0.34980237]\n",
      " [0.70526316 0.97035573]\n",
      " [0.62368421 0.62648221]\n",
      " [0.58947368 0.69960474]\n",
      " [0.56315789 0.36561265]\n",
      " [0.81578947 0.66403162]]\n",
      "[0 0 0 0 0 0 0 0 0 0 0 0 0 0 0 0 0 0 0 0 0 0 0 0 0 0 0 0 0 0 0 0 0 0 0 0 0\n",
      " 0 0 0 0 0 0 0 0 0 0 0 0 0 0 0 0 0 0 0 0 0 0 1 1 1 1 1 1 1 1 1 1 1 1 1 1 1\n",
      " 1 1 1 1 1 1 1 1 1 1 1 1 1 1 1 1 1 1 1 1 1 1 1 1 1 1 1 1 1 1 1 1 1 1 1 1 1\n",
      " 1 1 1 1 1 1 1 1 1 1 1 1 1 1 1 1 1 1 1 2 2 2 2 2 2 2 2 2 2 2 2 2 2 2 2 2 2\n",
      " 2 2 2 2 2 2 2 2 2 2 2 2 2 2 2 2 2 2 2 2 2 2 2 2 2 2 2 2 2 2]\n"
     ]
    }
   ],
   "source": [
    "print(\"\\n---------------------------------\\nWINE DATASET: \\n\\n\")\n",
    "df = pd.read_csv('wine.csv')\n",
    "df.head()\n",
    "\n",
    "df.replace(to_replace=1, value=0, inplace=True)\n",
    "df.replace(to_replace=2, value=1, inplace=True)\n",
    "df.replace(to_replace=3, value=2, inplace=True)\n",
    "\n",
    "print(df.sample(frac=1))\n",
    "\n",
    "X_train = df[['Alcohol', 'Malic.acid']].values\n",
    "Y_train = df['Wine'].values\n",
    "_max = np.max(X_train, axis=0)\n",
    "_min = np.min(X_train, axis=0)\n",
    "X_train = (X_train - _min) / (_max - _min)\n",
    "print(X_train)\n",
    "print(Y_train)"
   ]
  },
  {
   "cell_type": "code",
   "execution_count": 78,
   "metadata": {},
   "outputs": [
    {
     "data": {
      "text/plain": [
       "array([2, 2, 2, 2, 2, 2, 2, 2, 2, 2, 2, 2, 2, 2, 2, 2, 2, 2, 2, 2])"
      ]
     },
     "execution_count": 78,
     "metadata": {},
     "output_type": "execute_result"
    }
   ],
   "source": [
    "X_test, Y_test = X_train[-20:], Y_train[-20:]\n",
    "X_train, Y_train = X_train[:-20], Y_train[:-20]\n",
    "(Y_test)"
   ]
  },
  {
   "cell_type": "markdown",
   "metadata": {},
   "source": [
    "Fuzzy Min-Max Classificator - WINE"
   ]
  },
  {
   "cell_type": "code",
   "execution_count": 79,
   "metadata": {},
   "outputs": [
    {
     "data": {
      "text/plain": [
       "0.65"
      ]
     },
     "execution_count": 79,
     "metadata": {},
     "output_type": "execute_result"
    }
   ],
   "source": [
    "clf2 = FuzzyMMC(sensitivity=1, exp_bound=0.4)\n",
    "clf2.fit(X_train, Y_train)\n",
    "score2 = clf2.score(X_test, Y_test)\n",
    "score2"
   ]
  },
  {
   "cell_type": "markdown",
   "metadata": {},
   "source": [
    "Algoritam koji koristi KNN"
   ]
  },
  {
   "cell_type": "code",
   "execution_count": 80,
   "metadata": {},
   "outputs": [
    {
     "name": "stdout",
     "output_type": "stream",
     "text": [
      "10\n",
      "20\n"
     ]
    },
    {
     "data": {
      "text/plain": [
       "0.5"
      ]
     },
     "execution_count": 80,
     "metadata": {},
     "output_type": "execute_result"
    }
   ],
   "source": [
    "clf1 = FuzzyKNN(sensitivity=1, exp_bound=0.4)\n",
    "clf1.fit(X_train, Y_train)\n",
    "score1 = clf1.score(X_test, Y_test, 2)\n",
    "score1"
   ]
  },
  {
   "cell_type": "markdown",
   "metadata": {},
   "source": [
    "KNN algoritam"
   ]
  },
  {
   "cell_type": "code",
   "execution_count": 81,
   "metadata": {},
   "outputs": [
    {
     "data": {
      "text/plain": [
       "0.45"
      ]
     },
     "execution_count": 81,
     "metadata": {},
     "output_type": "execute_result"
    }
   ],
   "source": [
    "clf3 = KNeighborsClassifier(n_neighbors = 4)\n",
    "clf3.fit(X_train, Y_train)\n",
    "Y_pred = clf3.predict(X_test)\n",
    "accuracy = met.accuracy_score(Y_test, Y_pred)\n",
    "accuracy"
   ]
  },
  {
   "cell_type": "code",
   "execution_count": 82,
   "metadata": {},
   "outputs": [
    {
     "data": {
      "image/png": "[encoded data removed]",
      "text/plain": [
       "<Figure size 432x288 with 1 Axes>"
      ]
     },
     "metadata": {
      "needs_background": "light"
     },
     "output_type": "display_data"
    }
   ],
   "source": [
    "# WINE poredjenje\n",
    "objects = ('wine_FMMKNN', 'wine_FMM', 'wine_KNN')\n",
    "y_pos = np.arange(len(objects))\n",
    "\n",
    "x_pos = [score1, score2, accuracy] \n",
    "\n",
    "plt.bar(y_pos, x_pos, align='center', alpha=0.5, color = ['r', 'g','b'])\n",
    "plt.xticks(y_pos, objects)\n",
    "plt.ylabel('score')\n",
    "plt.title('Accuracy for WINE dataset')\n",
    "\n",
    "plt.show()"
   ]
  },
  {
   "cell_type": "code",
   "execution_count": null,
   "metadata": {},
   "outputs": [],
   "source": []
  },
  {
   "cell_type": "code",
   "execution_count": null,
   "metadata": {},
   "outputs": [],
   "source": []
  }
 ],
 "metadata": {
  "kernelspec": {
   "display_name": "Python 3",
   "language": "python",
   "name": "python3"
  },
  "language_info": {
   "codemirror_mode": {
    "name": "ipython",
    "version": 3
   },
   "file_extension": ".py",
   "mimetype": "text/x-python",
   "name": "python",
   "nbconvert_exporter": "python",
   "pygments_lexer": "ipython3",
   "version": "3.6.9"
  }
 },
 "nbformat": 4,
 "nbformat_minor": 2
}
